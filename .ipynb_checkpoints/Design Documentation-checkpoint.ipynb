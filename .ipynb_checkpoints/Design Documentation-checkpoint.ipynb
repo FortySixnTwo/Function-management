{
 "cells": [
  {
   "cell_type": "markdown",
   "metadata": {},
   "source": [
    "# Hospitality Function Management Tool Design Document"
   ]
  },
  {
   "cell_type": "markdown",
   "metadata": {},
   "source": [
    "## Project Goals\n",
    "\n",
    "The aim of this project is to create a tool which can be fed a number of potential dishes, the elements they are made up of, and allergen information. This data will then be used to create set menus with any number of options and courses whilst either caterering to or flagging potential dietary issues, all whilst minimising user effort. \n",
    "\n",
    "The resulting program **must** have a time & effort benefit over manually assmebling prep sheets, set menus ect.\n",
    "\n",
    "### Basic Functionality\n",
    "+ Store dishes, their elements and allergen/dietary information in a database*\n",
    "+ Allow end user to add, modify and remove items from the database\n",
    "+ Have a streamlined and easy to use method of making a set menu from these database items\n",
    "+ Use dietary and allergen information to make potential issues with a menu immediately noticable and easily addressable\n",
    "+ Break down menus into printable and readable media for use of individual kitchen staff as prep sheets**\n",
    "+ Allow exporting of menus to be printed and used as menus for Front of House & Management\n",
    "+ Allow input of of required deitary needs, customer quantity ect on a per menu basis\n",
    "+ Initially Windows deployment only required, potential Android port in future dependent on cost/benefit\n",
    "\n",
    "### Extended Functionality\n",
    "+ Take preorder data and turn it into useful information such as what a given person's dietary requirments prevent them from eating as a dish and which elements conflict with this\n",
    "+ Costing analysis, 70% gross profit aim\n",
    "+ Stock calculations - take into account min - max possibly orders & return ballpark estimate of required stock\n",
    "+ Menu import functionality, matching keywords in a .docx to create a set menu based on preexisting dish, element, dietary & quantity data\n",
    "+ Get a signed installer & security certificates, ect\n",
    "\n",
    "*Many dishes share elements, the solution should potentially include a bank of elements & complete dishes using these elements.\n",
    "** This will likely be difficult and subject to change as different kitchens would break menus down differently, for initial purposes use The Wordsworth Hotel's kitchen set up."
   ]
  },
  {
   "cell_type": "markdown",
   "metadata": {},
   "source": [
    "## Questions to bug James with\n",
    "\n",
    "+ Spyder Self Autofill gives the bold code, why? What do the $ denote, what does 1:self do?\n",
    "\n",
    "<code>class Element():\n",
    "    def \\__init__**(${1:self})$0** </code>\n",
    "    \n",
    "+ When initiating a class what are the benefits of defining attributes like A vs B?\n",
    "\n",
    "A: \n",
    "\n",
    "<code> def __init__(self, prop1, prop2) </code>\n",
    "\n",
    "B:\n",
    "\n",
    "<code>def __init__(self):\n",
    "        self.prop1\n",
    "        self.prop2</code>\n",
    "\n",
    "+ Working bool() ect into class initiation? *See troubleshooting process below\n",
    "\n",
    "+ Udacity stated boolean constructor as bool(), other sources say bool() is a truth tester than converts a value to a boolean. Further reading of Udacity notes point to bool() for construction and .bool() for conversion."
   ]
  },
  {
   "cell_type": "markdown",
   "metadata": {},
   "source": [
    "## To Rememeber\n",
    "\n",
    "+PyLint\n",
    "+Codewars"
   ]
  },
  {
   "cell_type": "markdown",
   "metadata": {},
   "source": [
    "##Troubleshooting Records\n",
    "<code>\n",
    "class Element(): # Class for elements of a dish & their allergen information\n",
    "    def \\__init__(self):\n",
    "        self.bool('Allium', 0)\n",
    "        self.bool('Gluten', 0)\n",
    "        self.bool('Shellfish', 0)\n",
    "        self.bool('Eggs', 0)\n",
    "        self.bool('Fish', 0)\n",
    "        self.bool('Lupin', 0)\n",
    "        self.bool('Dairy', 0)\n",
    "        self.bool('Molluscs', 0)\n",
    "        self.bool('Mustard', 0)\n",
    "        self.bool('Nuts', 0)\n",
    "        self.bool('Peanuts', 0)\n",
    "        self.bool('Sesame', 0)\n",
    "        self.bool('Soya', 0)\n",
    "        self.bool('Sulphites', 0)\n",
    "        \n",
    "Carrot_Puree = Element(Dairy=1)</code> \n",
    "\n",
    "TypeError: \\__init__() got an unexpected keyword argument 'Dairy'\n",
    "\n",
    "Changed out self.bool('title') for self.title=bool()\n",
    "\n",
    "<code>\n",
    "   class Element(): # Class for elements of a dish & their allergen information\n",
    "    def __init__(self):\n",
    "        self.Allium=bool()\n",
    "        self.Gluten=bool()\n",
    "        self.Shellfish=bool()\n",
    "        self.Eggs=bool()\n",
    "        self.Fish=bool()\n",
    "        self.Lupin=bool()\n",
    "        self.Dairy=bool()\n",
    "        self.Molluscs=bool()\n",
    "        self.Mustard=bool()\n",
    "        self.Nuts=bool()\n",
    "        self.Peanuts=bool()\n",
    "        self.Sesame=bool()\n",
    "        self.Soya=bool()\n",
    "        self.Sulphites=bool()\n",
    "        \n",
    "Carrot_Puree = Element(Dairy=1)</code>\n",
    "\n",
    "TypeError: \\__init__() got an unexpected keyword argument 'Dairy'\n",
    "\n",
    "Changed self.X=bool for what's below\n",
    "<code>class Element(): # Class for elements of a dish & their allergen information\n",
    "    def \\__init__(self,\n",
    "                 Allium=bool,\n",
    "                 Gluten=bool,\n",
    "                 Shellfish=bool,\n",
    "                 Eggs=bool,\n",
    "                 Fish=bool,\n",
    "                 Lupin=False,\n",
    "                 Dairy=False,\n",
    "                 Molluscs=False,\n",
    "                 Mustard=False,\n",
    "                 Nuts=False,\n",
    "                 Peanuts=False,\n",
    "                 Sesame=False,\n",
    "                 Soya=False,\n",
    "                 Sulphites=False)</code>"
   ]
  },
  {
   "cell_type": "code",
   "execution_count": null,
   "metadata": {},
   "outputs": [],
   "source": []
  },
  {
   "cell_type": "code",
   "execution_count": null,
   "metadata": {},
   "outputs": [],
   "source": []
  },
  {
   "cell_type": "code",
   "execution_count": null,
   "metadata": {},
   "outputs": [],
   "source": []
  }
 ],
 "metadata": {
  "kernelspec": {
   "display_name": "Python 3",
   "language": "python",
   "name": "python3"
  },
  "language_info": {
   "codemirror_mode": {
    "name": "ipython",
    "version": 3
   },
   "file_extension": ".py",
   "mimetype": "text/x-python",
   "name": "python",
   "nbconvert_exporter": "python",
   "pygments_lexer": "ipython3",
   "version": "3.7.6"
  }
 },
 "nbformat": 4,
 "nbformat_minor": 4
}
